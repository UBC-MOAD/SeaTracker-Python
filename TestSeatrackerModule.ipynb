{
 "cells": [
  {
   "cell_type": "markdown",
   "metadata": {},
   "source": [
    "# Test `seatracker` Module\n",
    "\n",
    "This is a development notebook used as an integration test as code\n",
    "is ported from Susan's original `SeaTracker.ipynb` implementation\n",
    "into the `seatracker.py` module."
   ]
  },
  {
   "cell_type": "code",
   "execution_count": 1,
   "metadata": {},
   "outputs": [],
   "source": [
    "from itertools import product\n",
    "import math\n",
    "import random\n",
    "\n",
    "import matplotlib as mpl\n",
    "import matplotlib.pyplot as plt\n",
    "from mpl_toolkits.mplot3d import Axes3D\n",
    "import netCDF4 as nc\n",
    "import numpy as np\n",
    "from scipy.integrate import ode\n",
    "from scipy.interpolate import LinearNDInterpolator\n",
    "\n",
    "import seatracker"
   ]
  },
  {
   "cell_type": "code",
   "execution_count": 2,
   "metadata": {},
   "outputs": [],
   "source": [
    "%matplotlib inline"
   ]
  },
  {
   "cell_type": "markdown",
   "metadata": {},
   "source": [
    "* Staggered grids : Done\n",
    "* Multiple points : Done\n",
    "* tmask : Done (or at least fake one done)\n",
    "* off depth and onto grid (done)\n",
    "* e1t etc (sketched)\n",
    "* the surface (badly done)"
   ]
  },
  {
   "cell_type": "code",
   "execution_count": 20,
   "metadata": {},
   "outputs": [],
   "source": [
    "def interpolator(t_mask, e3w, e2v, e1u, w_coords, v_coords, u_coords, w, v, u, point) :\n",
    "    dims = len(point)\n",
    "    rhs = np.zeros((3))\n",
    "    if t_mask[int(point[1]), int(point[2]), int(point[3])] != 0:\n",
    "        for vel, scale, coords, data in zip([0, 1, 2], [e3w, e2v, e1u,], [w_coords, v_coords, u_coords], [w, v, u]):\n",
    "            indices = []\n",
    "            sub_coords = []\n",
    "            good = True\n",
    "            for j in range(dims) :\n",
    "                idx = np.digitize([point[j]], coords[j])[0]   # finds the index of region\n",
    "                if (idx == len(coords[j])):\n",
    "                    print (j, 'out of bounds', point[j], vel, coords[j])\n",
    "                    good = False\n",
    "                elif (idx == 0):\n",
    "                    print (j, 'hit surface', point[j], vel, coords[j])\n",
    "                    good = False\n",
    "                else:\n",
    "                    indices += [[idx - 1, idx]]\n",
    "                    sub_coords += [coords[j][indices[-1]]]\n",
    "            if good:\n",
    "                indices = np.array([j for j in product(*indices)])\n",
    "                sub_coords = np.array([j for j in product(*sub_coords)])\n",
    "                sub_data = data[list(np.swapaxes(indices, 0, 1))]\n",
    "                li = LinearNDInterpolator(sub_coords, sub_data, rescale=True) # https://www.mathworks.com/help/matlab/ref/interpn.html\n",
    "                if vel == 0:\n",
    "                    rhs[vel] = li([point])[0]/scale[indices[0, 0], int(point[1]), int(point[2]), int(point[3])]\n",
    "                    if (rhs[vel] == 0):\n",
    "                        print ('rhs', scale[indices[0, 0], int(point[1]), int(point[2]), int(point[3])])\n",
    "                        print (int(point[1]), int(point[2]), int(point[3]))\n",
    "                        print (t_mask[int(point[1]), int(point[2]), int(point[3])])\n",
    "                else:\n",
    "                    rhs[vel] = li([point])[0]/scale[indices[0, 2], indices[0, 3]]\n",
    "            else:\n",
    "                rhs[vel] = 0.\n",
    "    return rhs\n",
    "# from Jaime on Stackoverflow https://stackoverflow.com/users/110026/jaime"
   ]
  },
  {
   "cell_type": "code",
   "execution_count": 4,
   "metadata": {},
   "outputs": [],
   "source": [
    "def derivatives(t, poss, t_mask, e3w, e2v, e1u, w_coords, v_coords, u_coords, w, v, u):\n",
    "    rhs = np.zeros_like(poss)\n",
    "    for ip in range(int(poss.shape[0]/3)):\n",
    "        point = np.array([t, poss[0+ip*3], poss[1+ip*3], poss[2+ip*3]])\n",
    "        rhs[0+ip*3:3+ip*3] = interpolator(t_mask, \n",
    "                                          e3w, e2v, e1u, w_coords, v_coords, u_coords, w, v, u, point)\n",
    "    return np.array(rhs) # array or scalar, not a tuple"
   ]
  },
  {
   "cell_type": "code",
   "execution_count": 21,
   "metadata": {},
   "outputs": [],
   "source": [
    "# Choose new random points\n",
    "def random_points (t_coords, deltat, t_mask):\n",
    "    t0 = t_coords[0, 0]\n",
    "    yi = np.zeros((27, 3))\n",
    "\n",
    "    good = 0\n",
    "    while good == 0:\n",
    "        tc = random.uniform(t0, t0+deltat)\n",
    "        zc = random.uniform(0., 39.)\n",
    "        yc = random.uniform(t_coords[2, 0], t_coords[2, -1])\n",
    "        xc = random.uniform(t_coords[3, 0], t_coords[3, -1])\n",
    "\n",
    "        count = 0\n",
    "        for k in range(3):\n",
    "            for j in range(3):\n",
    "                for i in range(3):\n",
    "                    yi[count, 0] = min(zc + k, 39.)\n",
    "                    yi[count, 1] = min(yc + j, t_coords[2, -1])\n",
    "                    yi[count, 2] = min(xc + i, t_coords[3, -1])\n",
    "#                     print (yi[count], math.floor(yi[count, 0]))\n",
    "                    good += t_mask[math.floor(yi[count, 0]), math.floor(yi[count, 1]), math.floor(yi[count, 2])]\n",
    "                    count += 1\n",
    "\n",
    "        print (tc, zc, yc, xc, good)\n",
    "\n",
    "    return tc, yi"
   ]
  },
  {
   "cell_type": "code",
   "execution_count": 6,
   "metadata": {},
   "outputs": [],
   "source": [
    "# Choose grid around a specific point\n",
    "def grid_points (t_coords, deltat, t_mask, tc, zc, yc, xc):\n",
    "    t0 = t_coords[0, 0]\n",
    "    yi = np.zeros((27, 3))\n",
    "\n",
    "    good = 0\n",
    "    count = 0\n",
    "    for k in range(3):\n",
    "        for j in range(3):\n",
    "            for i in range(3):\n",
    "                yi[count, 0] = min(zc + k, 39.)\n",
    "                yi[count, 1] = min(yc + j, t_coords[2, -1])\n",
    "                yi[count, 2] = min(xc + i, t_coords[3, -1])\n",
    "                good += t_mask[math.floor(yi[count, 0]), math.floor(yi[count, 1]), math.floor(yi[count, 2])]\n",
    "                if t_mask[math.floor(yi[count, 0]), math.floor(yi[count, 1]), math.floor(yi[count, 2])] == 0:\n",
    "                    print(zc+k, yc+j, xc+i)\n",
    "                count += 1\n",
    "\n",
    "#     print (tc, zc, yc, xc, good)\n",
    "\n",
    "    return tc, yi"
   ]
  },
  {
   "cell_type": "code",
   "execution_count": 7,
   "metadata": {},
   "outputs": [],
   "source": [
    "# Set up run: test points are not on the walls\n",
    "def test_points(t_coords, u_coords, v_coords, w_coords, tmask, yi):\n",
    "    testpoint = np.zeros((4))\n",
    "    for point in range(yi.shape[0]):\n",
    "        testpoint[1:] = yi[point]\n",
    "        testpoint[0] = t_coords[0, 0]\n",
    "        velocity = interpolator(t_mask, e3w, e2v, e1u, w_coords, v_coords, u_coords, w, v, u, testpoint)\n",
    "        if np.all(velocity == [0, 0, 0]):\n",
    "            t_mask[int(testpoint[1]), int(testpoint[2]), int(testpoint[3])] = 0\n",
    "            print (int(testpoint[1]), int(testpoint[2]), int(testpoint[3]), 'zerod')\n",
    "    return t_mask"
   ]
  },
  {
   "cell_type": "code",
   "execution_count": 8,
   "metadata": {},
   "outputs": [],
   "source": [
    "def w_correction (w, fractiondepth):\n",
    "    '''w in nc files, is real, but we want w relative to grid\n",
    "    that means w  at the surface is zero'''\n",
    "    for i in range(w.shape[1]):\n",
    "        w[:, i] = w[:, i] - w[:, 0]*(1-fractiondepth[i])\n",
    "    return w"
   ]
  },
  {
   "cell_type": "code",
   "execution_count": 15,
   "metadata": {
    "scrolled": false
   },
   "outputs": [],
   "source": [
    "def get_initial_data(fractiondepth, totaldepth, e3w0):\n",
    "#     udataset = nc.Dataset('../myResults/SalishSea_1h_20160801_20160801_grid_U.nc')\n",
    "    udataset = nc.Dataset('hindcast/SalishSea_1h_20160801_20160801_grid_U.nc')\n",
    "    tcorrs = udataset['time_counter'][:3]\n",
    "    deltat = tcorrs[1] - tcorrs[0]\n",
    "#    xcorrs = udataset['gridX'][:]\n",
    "#    ycorrs = udataset['gridY'][:]\n",
    "    xcorrs = range(udataset.dimensions['x'].size)\n",
    "    ycorrs = range(udataset.dimensions['y'].size)\n",
    "    depthsize = udataset['depthu'][:].shape[0]\n",
    "    zcorrs = np.linspace(0, depthsize, depthsize+1) - 0.5  # this makes it depth, not grid point \n",
    "    # and I need one above the surface\n",
    "\n",
    "    longaxis = max(len(xcorrs), len(ycorrs), len(zcorrs), len(tcorrs))\n",
    "    t_coords = np.zeros((4, longaxis))\n",
    "    t_coords[0, 0:len(tcorrs)] = tcorrs\n",
    "    t_coords[0, len(tcorrs):] = max(tcorrs)\n",
    "    t_coords[1, 0:len(zcorrs)] = zcorrs\n",
    "    t_coords[1, len(zcorrs):] = max(zcorrs)\n",
    "    t_coords[2, 0:len(ycorrs)] = ycorrs\n",
    "    t_coords[2, len(ycorrs):] = max(ycorrs)\n",
    "    t_coords[3, 0:len(xcorrs)] = xcorrs\n",
    "    t_coords[3, len(xcorrs):] = max(xcorrs)\n",
    "    # other grids\n",
    "    u_coords = np.copy(t_coords)\n",
    "    u_coords[3] = t_coords[3] + 0.5\n",
    "    v_coords = np.copy(t_coords)\n",
    "    v_coords[2] = t_coords[2] + 0.5\n",
    "    w_coords = np.copy(t_coords)\n",
    "    w_coords[1] = t_coords[1] + 0.5\n",
    "\n",
    "    u = np.zeros((3, len(zcorrs), len(ycorrs), len(xcorrs)))\n",
    "    u[:, 1:] = udataset['vozocrtx'][0:3]\n",
    "    u[:, 0] = 2 * u[:, 1] - u[:, 2]\n",
    "\n",
    "    v = np.zeros_like(u)\n",
    "#     vdataset = nc.Dataset('../myResults/SalishSea_1h_20160801_20160801_grid_V.nc')\n",
    "    vdataset = nc.Dataset('hindcast/SalishSea_1h_20160801_20160801_grid_V.nc')\n",
    "    v[:, 1:] = vdataset['vomecrty'][0:3]\n",
    "    v[:, 0] = 2 * v[:, 1] - v[:, 2]\n",
    "\n",
    "#     wdataset = nc.Dataset('../myResults/SalishSea_1h_20160801_20160801_grid_W.nc')\n",
    "    wdataset = nc.Dataset('hindcast/SalishSea_1h_20160801_20160801_grid_W.nc')\n",
    "    w = np.zeros_like(u)\n",
    "    w = - wdataset['vovecrtz'][0:3] # change to velocity down (increasing depth)\n",
    "\n",
    "#     tdataset = nc.Dataset('../myResults/SalishSea_1h_20160801_20160801_grid_T.nc')\n",
    "    tdataset = nc.Dataset('hindcast/SalishSea_1h_20160801_20160801_grid_T.nc')\n",
    "    ssh = tdataset['sossheig'][0:3]\n",
    "    e3w = np.empty_like(w)\n",
    "    for i in range(3):\n",
    "        e3w[i] = e3w0*(1 + ssh[i]/totaldepth)\n",
    "    \n",
    "    nextindex = 3\n",
    "\n",
    "    return u, v, w, tcorrs, t_coords, u_coords, v_coords, w_coords, deltat, nextindex, e3w, udataset, vdataset, wdataset, tdataset"
   ]
  },
  {
   "cell_type": "code",
   "execution_count": 10,
   "metadata": {},
   "outputs": [],
   "source": [
    "# def initialize_mesh(mesh_mask_file):\n",
    "#     with nc.Dataset(mesh_mask_file) as data:\n",
    "#         t_mask = data['tmask'][0]\n",
    "#         e1u = data['e1u'][0]\n",
    "#         e2v = data['e2v'][0]\n",
    "#         e3w0 = data['e3w_0'][0]\n",
    "#         mbathy = data['mbathy'][0]\n",
    "#         gdepw_0 = data['gdepw_0'][0]\n",
    "#         totaldepth = np.empty_like(mbathy)\n",
    "#         for i in range(t_mask.shape[1]):\n",
    "#             for j in range(t_mask.shape[2]):\n",
    "#                 totaldepth[i,j] = gdepw_0[int(mbathy[i, j]), i, j]\n",
    "#         fractiondepth = gdepw_0/totaldepth\n",
    "        \n",
    "#     return t_mask, e1u, e2v, e3w0, totaldepth, fractiondepth"
   ]
  },
  {
   "cell_type": "code",
   "execution_count": 11,
   "metadata": {},
   "outputs": [],
   "source": [
    "def update_arrays(totaldepth, fractiondepth, e3w0, e3w, tcorrs, u_coords, v_coords, w_coords, u, v, w, deltat, nextindex, udataset, vdataset, wdataset, tdataset):\n",
    "    tcorrs  = tcorrs + deltat\n",
    "    u_coords[0, 0:len(tcorrs)] = tcorrs\n",
    "    u_coords[0, len(tcorrs):] = max(tcorrs)\n",
    "    v_coords[0] = u_coords[0]\n",
    "    w_coords[0] = u_coords[0]\n",
    "    u[0:2] = u[1:3]\n",
    "    u[2, 1:] = udataset['vozocrtx'][nextindex]\n",
    "    u[2, 0] = 2 * u[2, 1] - u[2, 2]\n",
    "    v[0:2] = v[1:3]\n",
    "    v[2, 1:] = vdataset['vomecrty'][nextindex]\n",
    "    v[2, 0] = 2 * v[2, 1] - v[2, 2]\n",
    "    w[0:2] = w[1:3]\n",
    "    wtemp = np.zeros([1, w.shape[1], w.shape[2], w.shape[3]])\n",
    "    wtemp[0] = - wdataset['vovecrtz'][nextindex]\n",
    "\n",
    "    ssh = tdataset['sossheig'][nextindex]\n",
    "    e3w[0:2] = e3w[1:3]\n",
    "    e3w[2] = e3w0*(1 + ssh/totaldepth)\n",
    "    \n",
    "    nextindex += 1\n",
    "    return tcorrs, u_coords, v_coords, w_coords, u, v, w, nextindex, e3w"
   ]
  },
  {
   "cell_type": "code",
   "execution_count": 12,
   "metadata": {},
   "outputs": [],
   "source": [
    "def myplotter(t0, y0, npoints, cmap, yc, initial=False):\n",
    "    ct = 20.\n",
    "    if initial:\n",
    "        for ip in range(npoints):\n",
    "            ax[1, 0].plot(t0, -y0[ip, 0], 'ko')\n",
    "            ax[0, 0].plot(t0, y0[ip, 1], 'ks')\n",
    "            ax[0, 1].plot(t0, y0[ip, 2], 'k^')\n",
    "            ax[2, 0].plot(y0[ip, 2], y0[ip, 1], 'bx')\n",
    "            ax[2, 1].plot(y0[ip, 2], y0[ip, 1], 'bx')\n",
    "            ax[1, 1].scatter(y0[ip, 2], y0[ip, 1], -y0[ip, 0], c='k')\n",
    "    else:\n",
    "        for ip in range(npoints):\n",
    "            ax[1, 0].plot(t0, -y0[ip, 0], 'bo')\n",
    "            ax[0, 0].scatter(t0, y0[ip, 1], color=cmap((y0[ip, 0]-yc+ct)/(2*ct)))\n",
    "            ax[0, 1].scatter(t0, y0[ip, 2], color=cmap((y0[ip, 0]-yc+ct)/(2*ct)))\n",
    "            ax[2, 0].scatter(y0[ip, 2], y0[ip, 1], color=cmap((y0[ip, 0]-yc+ct)/(2*ct)))\n",
    "            ax[2, 1].scatter(y0[ip, 2], y0[ip, 1], color=cmap((y0[ip, 0]-yc+ct)/(2*ct)))\n",
    "            ax[1, 1].scatter(y0[ip, 2], y0[ip, 1], -y0[ip, 0], c='b')"
   ]
  },
  {
   "cell_type": "code",
   "execution_count": 23,
   "metadata": {
    "scrolled": false
   },
   "outputs": [],
   "source": [
    "def foo():\n",
    "    # set up graphing\n",
    "    cmap = mpl.cm.get_cmap('plasma_r')\n",
    "    fig, ax = plt.subplots(3, 2)\n",
    "    fig.clf()\n",
    "    fig = plt.figure(figsize=(15, 20))\n",
    "    ax[0, 0] = fig.add_subplot(3, 2, 1)\n",
    "    ax[0, 1] = fig.add_subplot(3, 2, 2)\n",
    "    ax[1, 0] = fig.add_subplot(3, 2, 3)\n",
    "    ax[1, 1] = fig.add_subplot(3, 2, 4, projection='3d')\n",
    "    ax[2, 0] = fig.add_subplot(3, 2, 5)\n",
    "    ax[2, 1] = fig.add_subplot(3, 2, 6)\n",
    "\n",
    "    # get initial data\n",
    "    # t_mask, e1u, e2v, e3w0, totaldepth, fractiondepth = initialize_mesh('../myResults/mesh_mask201702.nc')\n",
    "    t_mask, e1u, e2v, e3w0, totaldepth, fractiondepth = seatracker.initialize_mesh('../../MEOPAR/grid/mesh_mask201702.nc')\n",
    "    (u, v, w, tcorrs, t_coords, u_coords, v_coords, \n",
    "     w_coords, deltat, nextindex, e3w, udataset, vdataset, wdataset, tdataset) = get_initial_data(fractiondepth, totaldepth, e3w0)\n",
    "    # get a new point\n",
    "    tc, yi = random_points (t_coords, deltat, t_mask)\n",
    "    # tc, yi = grid_points(t_coords, deltat, t_mask, tc, 25-1, 446-1, 304-1)\n",
    "\n",
    "    ax[2, 0].pcolormesh(np.arange(398) - 0.5, np.arange(898) - 0.5, t_mask[0], cmap='Greys_r')\n",
    "    ax[2, 0].set_xlim(t_coords[3, 0], t_coords[3, -1])\n",
    "    ax[2, 0].set_ylim(t_coords[2, 0], t_coords[2, -1])\n",
    "\n",
    "    ax[2, 1].pcolormesh(np.arange(398) - 0.5, np.arange(898) - 0.5, t_mask[0], cmap='Greys_r')\n",
    "    size = 40\n",
    "\n",
    "    ax[2, 1].set_xlim(yi[0, 2]-size, yi[0, 2]+size)\n",
    "    ax[2, 1].set_ylim(yi[0, 1]-size, yi[0, 1]+size)\n",
    "\n",
    "    ax[0, 0].set_xlim(tcorrs[0], tcorrs[0]+24.5*deltat)\n",
    "    ax[0, 1].set_xlim(tcorrs[0], tcorrs[0]+24.5*deltat)\n",
    "\n",
    "\n",
    "    # set up values for integrator\n",
    "    t0 = tcorrs[0]\n",
    "    dt = deltat/10.\n",
    "    npoints = yi.shape[0]\n",
    "    y0 = np.copy(yi)\n",
    "    yp = np.ndarray.flatten(y0)\n",
    "\n",
    "    # plot initial points\n",
    "    myplotter(t0, y0, npoints, cmap, y0[0, 0], initial=True)\n",
    "\n",
    "    # initialize integrator    \n",
    "    myintegrator = ode(derivatives).set_integrator('dopri5', atol=0.01) # https://www.mathworks.com/help/matlab/ref/ode45.html\n",
    "    myintegrator.set_initial_value(yp, t0).set_f_params(t_mask, e3w, e2v, e1u, \n",
    "                                                        w_coords, v_coords, u_coords, w, v, u)\n",
    "\n",
    "    # first segment\n",
    "    t1 = t0 + 1.5*deltat\n",
    "\n",
    "    while myintegrator.successful() and myintegrator.t < t1:\n",
    "        myintegrator.integrate(myintegrator.t + dt)\n",
    "        myplotter(myintegrator.t, np.reshape(myintegrator.y, (npoints, 3)), npoints, cmap, y0[0, 0])\n",
    "\n",
    "    # and the rest\n",
    "    for count in range(0):\n",
    "        # update arrays\n",
    "        tcorrs, u_coords, v_coords, w_coords, u, v, w, nextindex, e3w = (\n",
    "            update_arrays(totaldepth, fractiondepth, e3w0, e3w, tcorrs, u_coords, v_coords, w_coords, u, v, w, \n",
    "                          deltat, nextindex, udataset, vdataset, wdataset, tdataset))\n",
    "        print(nextindex)\n",
    "        t1 += deltat\n",
    "\n",
    "        while myintegrator.successful() and myintegrator.t < t1:\n",
    "            myintegrator.integrate(myintegrator.t + dt)\n",
    "            myplotter(myintegrator.t, np.reshape(myintegrator.y, (npoints, 3)), npoints, cmap, y0[0, 0])"
   ]
  },
  {
   "cell_type": "code",
   "execution_count": 26,
   "metadata": {},
   "outputs": [
    {
     "name": "stderr",
     "output_type": "stream",
     "text": [
      "/home/doug/Documents/MOAD/seatracker-python/seatracker.py:41: RuntimeWarning: divide by zero encountered in true_divide\n",
      "  fractiondepth = gdepw_0 / totaldepth\n",
      "/home/doug/Documents/MOAD/seatracker-python/seatracker.py:41: RuntimeWarning: invalid value encountered in true_divide\n",
      "  fractiondepth = gdepw_0 / totaldepth\n"
     ]
    },
    {
     "name": "stdout",
     "output_type": "stream",
     "text": [
      "3679002740.39 24.27072071293924 480.819916222 240.254680545 27\n",
      "26.8 s ± 0 ns per loop (mean ± std. dev. of 1 run, 1 loop each)\n"
     ]
    },
    {
     "data": {
      "text/plain": [
       "<matplotlib.figure.Figure at 0x7f4b1dbeea20>"
      ]
     },
     "metadata": {},
     "output_type": "display_data"
    },
    {
     "data": {
      "image/png": "[encoded data removed]",
      "text/plain": [
       "<matplotlib.figure.Figure at 0x7f4b1adbb6a0>"
      ]
     },
     "metadata": {},
     "output_type": "display_data"
    }
   ],
   "source": [
    "%%timeit -n1 -r1\n",
    "\n",
    "from importlib import reload\n",
    "reload(seatracker)\n",
    "\n",
    "foo()"
   ]
  },
  {
   "cell_type": "code",
   "execution_count": 170,
   "metadata": {},
   "outputs": [
    {
     "name": "stdout",
     "output_type": "stream",
     "text": [
      "[  25.8178944   445.38621488  297.25177522]\n"
     ]
    },
    {
     "data": {
      "image/png": "[encoded data removed]",
      "text/plain": [
       "<matplotlib.figure.Figure at 0x1465b3828>"
      ]
     },
     "metadata": {},
     "output_type": "display_data"
    }
   ],
   "source": [
    "plt.plot(myintegrator.y[0:3], 'o-')\n",
    "print(myintegrator.y[0:3])"
   ]
  },
  {
   "cell_type": "code",
   "execution_count": 171,
   "metadata": {},
   "outputs": [
    {
     "name": "stdout",
     "output_type": "stream",
     "text": [
      "25 446 306\n",
      "26 446 305\n",
      "26 446 306\n",
      "26 447 306\n",
      "27 446 304\n",
      "27 446 305\n",
      "27 446 306\n",
      "27 447 305\n",
      "27 447 306\n",
      "27 448 306\n",
      "3679000597.68 25 446 304 17\n"
     ]
    },
    {
     "data": {
      "text/plain": [
       "(3679000597.6776409, array([[  25.,  446.,  304.],\n",
       "        [  25.,  446.,  305.],\n",
       "        [  25.,  446.,  306.],\n",
       "        [  25.,  447.,  304.],\n",
       "        [  25.,  447.,  305.],\n",
       "        [  25.,  447.,  306.],\n",
       "        [  25.,  448.,  304.],\n",
       "        [  25.,  448.,  305.],\n",
       "        [  25.,  448.,  306.],\n",
       "        [  26.,  446.,  304.],\n",
       "        [  26.,  446.,  305.],\n",
       "        [  26.,  446.,  306.],\n",
       "        [  26.,  447.,  304.],\n",
       "        [  26.,  447.,  305.],\n",
       "        [  26.,  447.,  306.],\n",
       "        [  26.,  448.,  304.],\n",
       "        [  26.,  448.,  305.],\n",
       "        [  26.,  448.,  306.],\n",
       "        [  27.,  446.,  304.],\n",
       "        [  27.,  446.,  305.],\n",
       "        [  27.,  446.,  306.],\n",
       "        [  27.,  447.,  304.],\n",
       "        [  27.,  447.,  305.],\n",
       "        [  27.,  447.,  306.],\n",
       "        [  27.,  448.,  304.],\n",
       "        [  27.,  448.,  305.],\n",
       "        [  27.,  448.,  306.]]))"
      ]
     },
     "execution_count": 171,
     "metadata": {},
     "output_type": "execute_result"
    }
   ],
   "source": [
    "grid_points(t_coords, deltat, t_mask, tc, 25, 446, 304)"
   ]
  },
  {
   "cell_type": "code",
   "execution_count": 177,
   "metadata": {
    "scrolled": false
   },
   "outputs": [
    {
     "name": "stdout",
     "output_type": "stream",
     "text": [
      "(4, 898)\n",
      "(3, 41, 898, 398)\n",
      "---u---\n",
      "[[[ 0.01502144  0.07606866  0.          0.        ]\n",
      "  [-0.04859814  0.06157497  0.173417    0.        ]\n",
      "  [-0.18486059 -0.06891217 -0.00453091 -0.00901418]]\n",
      "\n",
      " [[-0.03296385  0.02716981  0.          0.        ]\n",
      "  [-0.11902476 -0.08500474 -0.0045226   0.        ]\n",
      "  [-0.1502234  -0.14704061 -0.14503318 -0.07645559]]\n",
      "\n",
      " [[-0.00082774 -0.00534565  0.          0.        ]\n",
      "  [-0.04414443 -0.01946704  0.01280065  0.        ]\n",
      "  [ 0.01220854  0.01442944  0.02219298  0.        ]]]\n",
      "---v---\n",
      "[[[ 0.02124895  0.07012463  0.12065654  0.        ]\n",
      "  [ 0.02617515  0.04666235  0.10004982  0.12103039]\n",
      "  [ 0.0467036   0.02758706  0.12724751  0.16170472]]\n",
      "\n",
      " [[-0.05596447 -0.00655641  0.00214863  0.        ]\n",
      "  [-0.02219799 -0.04570109 -0.05519177 -0.01418846]\n",
      "  [-0.03782715 -0.06906948 -0.08947239 -0.08906513]]\n",
      "\n",
      " [[ 0.04801178  0.0029115  -0.04142207  0.        ]\n",
      "  [ 0.03733848  0.0270206   0.03166288 -0.00726883]\n",
      "  [ 0.07261767  0.05716801  0.09000409  0.00956273]]]\n",
      "---w---\n",
      "[[[0.0008010530727915466 -0.00015802642155904323 -0.0017406712286174297\n",
      "   -0.0]\n",
      "  [0.0014070780016481876 -0.000322884094202891 -0.0002935753727797419\n",
      "   -0.00030838805832900107]\n",
      "  [0.0005413104663603008 -0.0004419769684318453 -0.00030961731681600213\n",
      "   -0.0004920896026305854]]\n",
      "\n",
      " [[0.0009712500614114106 -0.0007842933409847319 -0.0010398547165095806 -0.0]\n",
      "  [-0.0005617258138954639 -0.000326770095853135 -0.001159587292931974\n",
      "   -9.927168866852298e-05]\n",
      "  [0.0002078874531434849 3.0664039513794705e-05 0.0004611751064658165\n",
      "   -0.0021343089174479246]]\n",
      "\n",
      " [[0.0007049114210531116 -0.0003166529058944434 -0.0 -0.0]\n",
      "  [0.0012340921675786376 -0.0020507890731096268 -0.00424108887091279 -0.0]\n",
      "  [-0.0014254841953516006 -0.0010417475132271647 -0.001745473826304078\n",
      "   -0.0016467152163386345]]]\n",
      "0.0150214377791\n"
     ]
    }
   ],
   "source": [
    "(u, v, w, tcorrs, t_coords, u_coords, v_coords, \n",
    " w_coords, deltat, nextindex, e3w, udataset, vdataset, wdataset, tdataset) = get_initial_data(fractiondepth, totaldepth, e3w0)\n",
    "print (w_coords.shape)\n",
    "print (u.shape)\n",
    "print ('---u---')\n",
    "print (u[0, 23:26, 444:447, 302:306])\n",
    "print ('---v---')\n",
    "print (v[0, 23:26, 444:447, 302:306])\n",
    "print ('---w---')\n",
    "print (w[0, 23:26, 444:447, 302:306])\n",
    "print (u[0, 23, 444, 302])"
   ]
  },
  {
   "cell_type": "code",
   "execution_count": 173,
   "metadata": {},
   "outputs": [
    {
     "ename": "TypeError",
     "evalue": "slice indices must be integers or None or have an __index__ method",
     "output_type": "error",
     "traceback": [
      "\u001b[0;31m---------------------------------------------------------------------------\u001b[0m",
      "\u001b[0;31mTypeError\u001b[0m                                 Traceback (most recent call last)",
      "\u001b[0;32m<ipython-input-173-6667e60caaad>\u001b[0m in \u001b[0;36m<module>\u001b[0;34m()\u001b[0m\n\u001b[0;32m----> 1\u001b[0;31m \u001b[0mplt\u001b[0m\u001b[0;34m.\u001b[0m\u001b[0mpcolormesh\u001b[0m\u001b[0;34m(\u001b[0m\u001b[0mt_mask\u001b[0m\u001b[0;34m[\u001b[0m\u001b[0;36m0\u001b[0m\u001b[0;34m,\u001b[0m \u001b[0mt_coords\u001b[0m\u001b[0;34m[\u001b[0m\u001b[0;36m2\u001b[0m\u001b[0;34m,\u001b[0m \u001b[0;36m0\u001b[0m\u001b[0;34m]\u001b[0m\u001b[0;34m:\u001b[0m\u001b[0mt_coords\u001b[0m\u001b[0;34m[\u001b[0m\u001b[0;36m2\u001b[0m\u001b[0;34m,\u001b[0m \u001b[0;34m-\u001b[0m\u001b[0;36m1\u001b[0m\u001b[0;34m]\u001b[0m\u001b[0;34m+\u001b[0m\u001b[0;36m1\u001b[0m\u001b[0;34m,\u001b[0m \u001b[0mt_coords\u001b[0m\u001b[0;34m[\u001b[0m\u001b[0;36m3\u001b[0m\u001b[0;34m,\u001b[0m \u001b[0;36m0\u001b[0m\u001b[0;34m]\u001b[0m\u001b[0;34m:\u001b[0m\u001b[0mt_coords\u001b[0m\u001b[0;34m[\u001b[0m\u001b[0;36m3\u001b[0m\u001b[0;34m,\u001b[0m \u001b[0;34m-\u001b[0m\u001b[0;36m1\u001b[0m\u001b[0;34m]\u001b[0m\u001b[0;34m+\u001b[0m\u001b[0;36m1\u001b[0m\u001b[0;34m]\u001b[0m\u001b[0;34m)\u001b[0m\u001b[0;34m\u001b[0m\u001b[0m\n\u001b[0m\u001b[1;32m      2\u001b[0m \u001b[0mplt\u001b[0m\u001b[0;34m.\u001b[0m\u001b[0mcolorbar\u001b[0m\u001b[0;34m(\u001b[0m\u001b[0;34m)\u001b[0m\u001b[0;34m\u001b[0m\u001b[0m\n",
      "\u001b[0;31mTypeError\u001b[0m: slice indices must be integers or None or have an __index__ method"
     ]
    }
   ],
   "source": [
    "plt.pcolormesh(t_mask[0, t_coords[2, 0]:t_coords[2, -1]+1, t_coords[3, 0]:t_coords[3, -1]+1])\n",
    "plt.colorbar()"
   ]
  },
  {
   "cell_type": "code",
   "execution_count": null,
   "metadata": {},
   "outputs": [],
   "source": [
    "plt.scatter(y0[:, 1], y0[:, 2], color=cmap(y0[:,0]/5.0))"
   ]
  },
  {
   "cell_type": "code",
   "execution_count": null,
   "metadata": {},
   "outputs": [],
   "source": [
    "np.mean([-0.11902476, -0.08500474, -0.1502234,  -0.14704061])"
   ]
  },
  {
   "cell_type": "code",
   "execution_count": null,
   "metadata": {},
   "outputs": [],
   "source": [
    "yi"
   ]
  },
  {
   "cell_type": "code",
   "execution_count": null,
   "metadata": {
    "collapsed": true
   },
   "outputs": [],
   "source": []
  }
 ],
 "metadata": {
  "kernelspec": {
   "display_name": "Python 3",
   "language": "python",
   "name": "python3"
  },
  "language_info": {
   "codemirror_mode": {
    "name": "ipython",
    "version": 3
   },
   "file_extension": ".py",
   "mimetype": "text/x-python",
   "name": "python",
   "nbconvert_exporter": "python",
   "pygments_lexer": "ipython3",
   "version": "3.6.4"
  },
  "toc": {
   "nav_menu": {},
   "number_sections": false,
   "sideBar": true,
   "skip_h1_title": false,
   "toc_cell": false,
   "toc_position": {},
   "toc_section_display": "block",
   "toc_window_display": false
  }
 },
 "nbformat": 4,
 "nbformat_minor": 2
}
